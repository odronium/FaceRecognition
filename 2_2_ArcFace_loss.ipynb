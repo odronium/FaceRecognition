{
 "cells": [
  {
   "cell_type": "code",
   "execution_count": 1,
   "id": "86d96d37",
   "metadata": {},
   "outputs": [],
   "source": [
    "import torch\n",
    "import torch.nn as nn\n",
    "import torchvision.models as models\n",
    "from torch.optim import Adam\n",
    "from torch.utils.data import DataLoader\n",
    "import math\n",
    "import pandas as pd\n",
    "import os\n",
    "from torch.utils.data import Dataset\n",
    "import cv2\n",
    "from torch.optim.lr_scheduler import ReduceLROnPlateau\n",
    "from tqdm import tqdm\n",
    "from sklearn.model_selection import train_test_split\n",
    "from matplotlib import pyplot as plt\n",
    "from torchvision import transforms\n",
    "import torch.nn.functional as F"
   ]
  },
  {
   "cell_type": "code",
   "execution_count": 2,
   "id": "0a28514c",
   "metadata": {},
   "outputs": [
    {
     "name": "stdout",
     "output_type": "stream",
     "text": [
      "{'total_images': 20000, 'unique_people': 956, 'images_per_person': {'count': 956.0, 'mean': 20.92050209205021, 'std': 1.5626391151459447, 'min': 3.0, '25%': 20.0, '50%': 21.0, '75%': 22.0, 'max': 27.0}}\n"
     ]
    }
   ],
   "source": [
    "idf_path = \"D:\\\\dlsPart2\\\\identity_CelebA3.txt\"\n",
    "img_folder = \"D:\\\\dlsPart2\\\\Aligned_Images3\"\n",
    "\n",
    "identity_df = pd.read_csv(idf_path, sep=' ', header=None, names=['filename', 'person_id'])\n",
    "\n",
    "files = set(os.listdir(img_folder))\n",
    "\n",
    "filtered_df = identity_df[identity_df['filename'].isin(files)]\n",
    "\n",
    "num_people = filtered_df['person_id'].nunique()\n",
    "\n",
    "stats = {\n",
    "    'total_images': len(filtered_df),\n",
    "    'unique_people': num_people,\n",
    "    'images_per_person': filtered_df['person_id'].value_counts().describe().to_dict()\n",
    "}\n",
    "print(stats)"
   ]
  },
  {
   "cell_type": "code",
   "execution_count": 3,
   "id": "cd23e073",
   "metadata": {},
   "outputs": [
    {
     "name": "stdout",
     "output_type": "stream",
     "text": [
      "Фактическое количество классов для обучения: 956\n",
      "Number of unique classes in train: 956\n",
      "Number of unique classes in val: 956\n",
      "Classes in val but not in train: 0\n",
      "Classes in train but not in val: 0\n",
      "\n",
      "Train dataset class distribution:\n",
      "count    956.000000\n",
      "mean      16.375523\n",
      "std        1.177533\n",
      "min        2.000000\n",
      "25%       16.000000\n",
      "50%       16.000000\n",
      "75%       17.000000\n",
      "max       21.000000\n",
      "Name: count, dtype: float64\n",
      "\n",
      "Validation dataset class distribution:\n",
      "count    956.000000\n",
      "mean       4.544979\n",
      "std        0.522846\n",
      "min        1.000000\n",
      "25%        4.000000\n",
      "50%        5.000000\n",
      "75%        5.000000\n",
      "max        6.000000\n",
      "Name: count, dtype: float64\n"
     ]
    }
   ],
   "source": [
    "# Функция для разделения данных с сохранением классов\n",
    "# Сделана, тк изначально сети было сложно обучаться, тк картинки человека могли быть в треине, но их не было в вал выборке\n",
    "def split_by_person(df, test_size=0.2, random_state=42):\n",
    "    train_dfs = []\n",
    "    val_dfs = []\n",
    "\n",
    "    for person_id in df['person_id'].unique():\n",
    "        person_data = df[df['person_id'] == person_id]\n",
    "        if len(person_data) < 2:  # Пропустить классы с 1 изображением\n",
    "            continue\n",
    "        # Разделение изображений одного человека\n",
    "        train_person, val_person = train_test_split(\n",
    "            person_data, test_size=test_size, random_state=42\n",
    "        )\n",
    "        train_dfs.append(train_person)\n",
    "        val_dfs.append(val_person)\n",
    "\n",
    "    train_df = pd.concat(train_dfs, ignore_index=True)\n",
    "    val_df = pd.concat(val_dfs, ignore_index=True)\n",
    "\n",
    "    return train_df, val_df\n",
    "\n",
    "train_df, val_df = split_by_person(filtered_df, test_size=0.20, random_state=42)\n",
    "\n",
    "# Создаем единый словарь для всех данных, которые будут использоваться\n",
    "all_used_ids = pd.concat([train_df, val_df])['person_id'].unique()\n",
    "id_to_label_map = {id_val: i for i, id_val in enumerate(all_used_ids)}\n",
    "\n",
    "num_classes_actual = len(id_to_label_map) \n",
    "print(f\"Фактическое количество классов для обучения: {num_classes_actual}\")\n",
    "\n",
    "# Проверка, что классы совпадают\n",
    "train_classes = set(train_df['person_id'].unique())\n",
    "val_classes = set(val_df['person_id'].unique())\n",
    "print(f\"Number of unique classes in train: {len(train_classes)}\")\n",
    "print(f\"Number of unique classes in val: {len(val_classes)}\")\n",
    "print(f\"Classes in val but not in train: {len(val_classes - train_classes)}\")\n",
    "print(f\"Classes in train but not in val: {len(train_classes - val_classes)}\")\n",
    "\n",
    "#Проверка баланса классов\n",
    "print(\"\\nTrain dataset class distribution:\")\n",
    "print(train_df['person_id'].value_counts().describe())\n",
    "print(\"\\nValidation dataset class distribution:\")\n",
    "print(val_df['person_id'].value_counts().describe())"
   ]
  },
  {
   "cell_type": "code",
   "execution_count": 4,
   "id": "b768472f",
   "metadata": {},
   "outputs": [],
   "source": [
    "class CelebDataset(Dataset):\n",
    "    def __init__(self, img_folder, identity_data, id_to_label, training=True):\n",
    "        \n",
    "        self.img_folder = img_folder\n",
    "        self.identity_df = identity_data\n",
    "        self.training = training\n",
    "\n",
    "        # Фильтрация (оставляем на всякий случай)\n",
    "        files = set(os.listdir(img_folder))\n",
    "        self.identity_df = self.identity_df[self.identity_df['filename'].isin(files)]\n",
    "\n",
    "        self.id_to_label = id_to_label\n",
    "\n",
    "        self.img_paths = self.identity_df['filename'].tolist()\n",
    "        # Применяем единый словарь для получения меток\n",
    "        self.labels = self.identity_df['person_id'].map(self.id_to_label).tolist()\n",
    "\n",
    "        self.train_transforms = transforms.Compose([\n",
    "            transforms.ToPILImage(),\n",
    "            transforms.RandomHorizontalFlip(p=0.5),  # Отражение по горизонтали\n",
    "            transforms.RandomAffine(degrees=0, translate=(0.1, 0.1), scale=(0.9, 1.1)),  # Сдвиги и масштабирование\n",
    "            transforms.ColorJitter(brightness=0.2, contrast=0.2, saturation=0.2, hue=0.1),  # Цветовые изменения\n",
    "            transforms.ToTensor(),\n",
    "            transforms.Normalize(mean=[0.485, 0.456, 0.406], std=[0.229, 0.224, 0.225])\n",
    "        ])\n",
    "\n",
    "        self.val_transforms = transforms.Compose([\n",
    "            transforms.ToPILImage(),\n",
    "            transforms.ToTensor(),\n",
    "            transforms.Normalize(mean=[0.485, 0.456, 0.406], std=[0.229, 0.224, 0.225])\n",
    "        ])\n",
    "\n",
    "    def __len__(self):\n",
    "        return len(self.img_paths)\n",
    "\n",
    "    def __getitem__(self, idx):\n",
    "        img_path = os.path.join(self.img_folder, self.img_paths[idx])\n",
    "        image = cv2.imread(img_path)\n",
    "        if image is None:\n",
    "            raise FileNotFoundError(f\"Ошибка загрузки: {img_path}\")\n",
    "\n",
    "        image = cv2.cvtColor(image, cv2.COLOR_BGR2RGB)\n",
    "        image = self.train_transforms(image) if self.training else self.val_transforms(image)\n",
    "\n",
    "        label = self.labels[idx]\n",
    "        return image, label"
   ]
  },
  {
   "cell_type": "code",
   "execution_count": 5,
   "id": "036c7523",
   "metadata": {},
   "outputs": [],
   "source": [
    "idf_path = \"D:\\\\dlsPart2\\\\identity_CelebA3.txt\"\n",
    "img_folder = \"D:\\\\dlsPart2\\\\Aligned_Images3\"\n",
    "\n",
    "train_dataset = CelebDataset(img_folder, train_df, id_to_label_map, training=True)\n",
    "val_dataset = CelebDataset(img_folder, val_df, id_to_label_map, training=False)"
   ]
  },
  {
   "cell_type": "code",
   "execution_count": null,
   "id": "b533ab03",
   "metadata": {},
   "outputs": [],
   "source": [
    "class ArcFaceLayer(nn.Module):\n",
    "    def __init__(self, in_features, out_features, s=15.0, m=0.3):\n",
    "        super(ArcFaceLayer, self).__init__()\n",
    "        self.in_features = in_features\n",
    "        self.out_features = out_features\n",
    "        self.s = s\n",
    "        self.m = m\n",
    "        self.weight = nn.Parameter(torch.FloatTensor(out_features, in_features))\n",
    "        nn.init.xavier_uniform_(self.weight)\n",
    "\n",
    "        self.cos_m = math.cos(m)\n",
    "        self.sin_m = math.sin(m)\n",
    "        self.th = math.cos(math.pi - m)\n",
    "        self.mm = math.sin(math.pi - m) * m\n",
    "\n",
    "    def forward(self, embedding, label):\n",
    "\n",
    "        embedding_norm = F.normalize(embedding)\n",
    "        weight_norm = F.normalize(self.weight)\n",
    "        \n",
    "        cosine = F.linear(embedding_norm, weight_norm)\n",
    "        \n",
    "        one_hot = torch.zeros(cosine.size(), device=embedding.device)\n",
    "        one_hot.scatter_(1, label.view(-1, 1).long(), 1)\n",
    "        \n",
    "        cos_theta_yi = torch.gather(cosine, 1, label.view(-1, 1).long()).view(-1)\n",
    "        \n",
    "        cos_theta_yi = torch.clamp(cos_theta_yi, -1.0, 1.0) \n",
    "        \n",
    "        sin_theta_yi = torch.sqrt(1.0 - torch.pow(cos_theta_yi, 2))\n",
    "        \n",
    "        cos_theta_plus_m = cos_theta_yi * self.cos_m - sin_theta_yi * self.sin_m\n",
    "        \n",
    "        condition = cos_theta_yi > self.th\n",
    "        phi = torch.where(condition, cos_theta_plus_m, cos_theta_yi - self.mm)\n",
    "        \n",
    "        output = cosine.clone()\n",
    "        output[one_hot.bool()] = phi\n",
    "        \n",
    "        output *= self.s\n",
    "        \n",
    "        return output"
   ]
  },
  {
   "cell_type": "code",
   "execution_count": 7,
   "id": "ca1b3342",
   "metadata": {},
   "outputs": [],
   "source": [
    "class ResNetWithEmbeddings(nn.Module):\n",
    "    def __init__(self, embedding_size=512):\n",
    "        super(ResNetWithEmbeddings, self).__init__()\n",
    "        base_model = models.resnet50(pretrained=True)\n",
    "\n",
    "        for param in base_model.parameters():\n",
    "            param.requires_grad = False\n",
    "        \n",
    "        for param in base_model.layer3.parameters():\n",
    "            param.requires_grad = True\n",
    "        for param in base_model.layer4.parameters():\n",
    "            param.requires_grad = True\n",
    "            \n",
    "        self.features = nn.Sequential(*list(base_model.children())[:-1])\n",
    "        self.embedding_layer = nn.Sequential(\n",
    "\n",
    "            nn.Dropout(p=0.7),\n",
    "            nn.Linear(base_model.fc.in_features, embedding_size)\n",
    "        )\n",
    "\n",
    "    def forward(self, x):\n",
    "        x = self.features(x)\n",
    "        x = x.view(x.size(0), -1)\n",
    "        embedding = self.embedding_layer(x)\n",
    "        return embedding"
   ]
  },
  {
   "cell_type": "code",
   "execution_count": null,
   "id": "74f4ff0b",
   "metadata": {},
   "outputs": [],
   "source": [
    "def train_arcface(model, arcface_layer, train_dataset, val_dataset, epochs=50, batch_size=32, lr=0.001, device='cuda', savepath=\"model.pth\", pre_train=None, tta_steps=2):\n",
    "    train_loader = DataLoader(train_dataset, batch_size=batch_size, shuffle=True, num_workers=0)\n",
    "    val_loader = DataLoader(val_dataset, batch_size=batch_size, shuffle=False, num_workers=0)\n",
    "\n",
    "    optimizer = torch.optim.SGD([\n",
    "        {'params': model.features.parameters(), 'lr': lr/2}, \n",
    "        {'params': model.embedding_layer.parameters(), 'lr': lr},\n",
    "        {'params': arcface_layer.parameters(), 'lr': lr}\n",
    "    ], momentum=0.9, weight_decay=5e-4)\n",
    "    \n",
    "    scheduler = torch.optim.lr_scheduler.ReduceLROnPlateau(optimizer, mode='min', factor=0.5, patience=3)\n",
    "    criterion = nn.CrossEntropyLoss()\n",
    "\n",
    "    model.to(device)\n",
    "    arcface_layer.to(device)\n",
    "\n",
    "    history = {\n",
    "        'train_loss': [],\n",
    "        'train_acc': [],\n",
    "        'val_loss': [],\n",
    "        'val_acc': [],\n",
    "        'best_val_acc': 0.0,\n",
    "        'best_val_loss': float('inf')\n",
    "    }\n",
    "\n",
    "    if pre_train is not None:\n",
    "        checkpoint = torch.load(pre_train, map_location=device)\n",
    "        model.load_state_dict(checkpoint['model_state_dict'])\n",
    "        arcface_layer.load_state_dict(checkpoint['arcface_state_dict'])\n",
    "        print(f\"Загружены предобученные веса из {pre_train}\")\n",
    "\n",
    "    \n",
    "    tta_transform = transforms.Compose([\n",
    "        transforms.ToPILImage(),\n",
    "        transforms.RandomHorizontalFlip(p=0.5),\n",
    "        transforms.RandomAffine(degrees=0, translate=(0.1, 0.1), scale=(0.9, 1.1)),\n",
    "        transforms.ToTensor(),\n",
    "        transforms.Normalize(mean=[0.485, 0.456, 0.406], std=[0.229, 0.224, 0.225])\n",
    "    ])\n",
    "\n",
    "    for epoch in range(epochs):\n",
    "\n",
    "        model.train()\n",
    "        arcface_layer.train()\n",
    "        running_loss, correct, total = 0.0, 0, 0\n",
    "        progress_bar = tqdm(train_loader, desc=f'Epoch {epoch+1}/{epochs}')\n",
    "\n",
    "        for images, labels in progress_bar:\n",
    "            images, labels = images.to(device), labels.to(device)\n",
    "            optimizer.zero_grad()\n",
    "            \n",
    "            embeddings = model(images)\n",
    "            outputs = arcface_layer(embeddings, labels)\n",
    "            loss = criterion(outputs, labels)\n",
    "\n",
    "            loss.backward()\n",
    "            optimizer.step()\n",
    "\n",
    "            _, predicted = torch.max(outputs.data, 1)\n",
    "            total += labels.size(0)\n",
    "            correct += (predicted == labels).sum().item()\n",
    "            running_loss += loss.item() * images.size(0)\n",
    "            progress_bar.set_postfix({\n",
    "                'loss': running_loss / total,\n",
    "                'acc': f\"{100 * correct / total:.2f}%\",\n",
    "                'lr': optimizer.param_groups[0]['lr']\n",
    "            })\n",
    "\n",
    "        epoch_train_loss = running_loss / len(train_dataset)\n",
    "        epoch_train_acc = 100 * correct / total\n",
    "\n",
    "        history['train_loss'].append(epoch_train_loss)\n",
    "        history['train_acc'].append(epoch_train_acc)\n",
    "\n",
    "        model.eval()\n",
    "        arcface_layer.eval()\n",
    "        val_loss, val_correct, val_total = 0.0, 0, 0\n",
    "        with torch.no_grad():\n",
    "            for batch_idx, (images, labels) in enumerate(val_loader):\n",
    "                images, labels = images.to(device), labels.to(device)\n",
    "                \n",
    "                #Работаем с оригиналом\n",
    "                embeddings = model(images)\n",
    "                outputs = arcface_layer(embeddings, labels)\n",
    "                loss = criterion(outputs, labels)\n",
    "                val_loss += loss.item() * images.size(0)\n",
    "\n",
    "                #TTA\n",
    "                tta_outputs = [outputs]  \n",
    "\n",
    "                start_idx = batch_idx * batch_size\n",
    "                end_idx = min(start_idx + batch_size, len(val_dataset))\n",
    "                batch_paths = val_dataset.img_paths[start_idx:end_idx]\n",
    "                augmented_images = torch.stack([\n",
    "                    tta_transform(cv2.cvtColor(cv2.imread(os.path.join(val_dataset.img_folder, img_path)), \n",
    "                                               cv2.COLOR_BGR2RGB)) \n",
    "                    for img_path in batch_paths\n",
    "                ]).to(device)\n",
    "                aug_embeddings = model(augmented_images)\n",
    "                aug_outputs = arcface_layer(aug_embeddings, labels)\n",
    "                tta_outputs.append(aug_outputs)\n",
    "\n",
    "                avg_outputs = torch.mean(torch.stack(tta_outputs), dim=0)\n",
    "                \n",
    "                avg_loss = criterion(avg_outputs, labels)\n",
    "                val_loss += (avg_loss.item() * images.size(0) - loss.item() * images.size(0)) \n",
    "                _, predicted = torch.max(avg_outputs.data, 1)\n",
    "                val_total += labels.size(0)\n",
    "                val_correct += (predicted == labels).sum().item()\n",
    "\n",
    "        epoch_val_loss = val_loss / len(val_dataset)\n",
    "        epoch_val_acc = 100 * val_correct / val_total\n",
    "\n",
    "        history['val_loss'].append(epoch_val_loss)\n",
    "        history['val_acc'].append(epoch_val_acc)\n",
    "\n",
    "        scheduler.step(epoch_val_loss)\n",
    "\n",
    "        if epoch_val_acc > history['best_val_acc']:\n",
    "            history['best_val_acc'] = epoch_val_acc\n",
    "            history['best_val_loss'] = epoch_val_loss\n",
    "            torch.save({\n",
    "                'model_state_dict': model.state_dict(),\n",
    "                'arcface_state_dict': arcface_layer.state_dict(),\n",
    "            }, savepath)\n",
    "            print(f\"Модель сохранена с val_acc: {epoch_val_acc:.2f}%\")\n",
    "\n",
    "        print(f\"Epoch {epoch+1}/{epochs} | \"\n",
    "              f\"Train Loss: {epoch_train_loss:.4f} | Val Loss: {epoch_val_loss:.4f} | \"\n",
    "              f\"Train Acc: {epoch_train_acc:.2f}% | Val Acc: {epoch_val_acc:.2f}%\")\n",
    "\n",
    "    return model, history"
   ]
  },
  {
   "cell_type": "code",
   "execution_count": null,
   "id": "218b5924",
   "metadata": {},
   "outputs": [
    {
     "name": "stderr",
     "output_type": "stream",
     "text": [
      "C:\\Users\\odron\\AppData\\Local\\Temp\\ipykernel_23516\\1693628506.py:28: FutureWarning: You are using `torch.load` with `weights_only=False` (the current default value), which uses the default pickle module implicitly. It is possible to construct malicious pickle data which will execute arbitrary code during unpickling (See https://github.com/pytorch/pytorch/blob/main/SECURITY.md#untrusted-models for more details). In a future release, the default value for `weights_only` will be flipped to `True`. This limits the functions that could be executed during unpickling. Arbitrary objects will no longer be allowed to be loaded via this mode unless they are explicitly allowlisted by the user via `torch.serialization.add_safe_globals`. We recommend you start setting `weights_only=True` for any use case where you don't have full control of the loaded file. Please open an issue on GitHub for any issues related to this experimental feature.\n",
      "  checkpoint = torch.load(pre_train, map_location=device)\n"
     ]
    },
    {
     "name": "stdout",
     "output_type": "stream",
     "text": [
      "Загружены предобученные веса из best_ARC_face_resnet50V26.pth\n"
     ]
    },
    {
     "name": "stderr",
     "output_type": "stream",
     "text": [
      "Epoch 1/80: 100%|██████████| 123/123 [03:50<00:00,  1.88s/it, loss=0.487, acc=89.01%, lr=0.00025]\n"
     ]
    },
    {
     "name": "stdout",
     "output_type": "stream",
     "text": [
      "Модель сохранена с val_acc: 70.31%\n",
      "Epoch 1/80 | Train Loss: 0.4874 | Val Loss: 2.9326 | Train Acc: 89.01% | Val Acc: 70.31%\n"
     ]
    },
    {
     "name": "stderr",
     "output_type": "stream",
     "text": [
      "Epoch 2/80: 100%|██████████| 123/123 [02:18<00:00,  1.12s/it, loss=0.497, acc=88.50%, lr=0.00025]\n"
     ]
    },
    {
     "name": "stdout",
     "output_type": "stream",
     "text": [
      "Модель сохранена с val_acc: 70.47%\n",
      "Epoch 2/80 | Train Loss: 0.4972 | Val Loss: 2.9179 | Train Acc: 88.50% | Val Acc: 70.47%\n"
     ]
    },
    {
     "name": "stderr",
     "output_type": "stream",
     "text": [
      "Epoch 3/80: 100%|██████████| 123/123 [02:14<00:00,  1.10s/it, loss=0.497, acc=88.64%, lr=0.00025]\n"
     ]
    },
    {
     "name": "stdout",
     "output_type": "stream",
     "text": [
      "Модель сохранена с val_acc: 70.61%\n",
      "Epoch 3/80 | Train Loss: 0.4971 | Val Loss: 2.9221 | Train Acc: 88.64% | Val Acc: 70.61%\n"
     ]
    },
    {
     "name": "stderr",
     "output_type": "stream",
     "text": [
      "Epoch 4/80: 100%|██████████| 123/123 [03:45<00:00,  1.83s/it, loss=0.487, acc=88.89%, lr=0.00025]\n"
     ]
    },
    {
     "name": "stdout",
     "output_type": "stream",
     "text": [
      "Модель сохранена с val_acc: 70.89%\n",
      "Epoch 4/80 | Train Loss: 0.4868 | Val Loss: 2.8831 | Train Acc: 88.89% | Val Acc: 70.89%\n"
     ]
    },
    {
     "name": "stderr",
     "output_type": "stream",
     "text": [
      "Epoch 5/80: 100%|██████████| 123/123 [02:18<00:00,  1.12s/it, loss=0.484, acc=88.95%, lr=0.00025]\n"
     ]
    },
    {
     "name": "stdout",
     "output_type": "stream",
     "text": [
      "Epoch 5/80 | Train Loss: 0.4839 | Val Loss: 2.9002 | Train Acc: 88.95% | Val Acc: 70.68%\n"
     ]
    },
    {
     "name": "stderr",
     "output_type": "stream",
     "text": [
      "Epoch 6/80: 100%|██████████| 123/123 [02:16<00:00,  1.11s/it, loss=0.496, acc=89.11%, lr=0.00025]\n"
     ]
    },
    {
     "name": "stdout",
     "output_type": "stream",
     "text": [
      "Epoch 6/80 | Train Loss: 0.4958 | Val Loss: 2.9179 | Train Acc: 89.11% | Val Acc: 70.33%\n"
     ]
    },
    {
     "name": "stderr",
     "output_type": "stream",
     "text": [
      "Epoch 7/80: 100%|██████████| 123/123 [02:22<00:00,  1.16s/it, loss=0.496, acc=89.02%, lr=0.00025]\n"
     ]
    },
    {
     "name": "stdout",
     "output_type": "stream",
     "text": [
      "Epoch 7/80 | Train Loss: 0.4962 | Val Loss: 2.9227 | Train Acc: 89.02% | Val Acc: 70.17%\n"
     ]
    },
    {
     "name": "stderr",
     "output_type": "stream",
     "text": [
      "Epoch 8/80: 100%|██████████| 123/123 [02:17<00:00,  1.12s/it, loss=0.49, acc=89.03%, lr=0.00025] \n"
     ]
    },
    {
     "name": "stdout",
     "output_type": "stream",
     "text": [
      "Epoch 8/80 | Train Loss: 0.4895 | Val Loss: 2.9350 | Train Acc: 89.03% | Val Acc: 70.79%\n"
     ]
    },
    {
     "name": "stderr",
     "output_type": "stream",
     "text": [
      "Epoch 9/80: 100%|██████████| 123/123 [02:22<00:00,  1.16s/it, loss=0.468, acc=89.68%, lr=0.000125]\n"
     ]
    },
    {
     "name": "stdout",
     "output_type": "stream",
     "text": [
      "Epoch 9/80 | Train Loss: 0.4679 | Val Loss: 2.9438 | Train Acc: 89.68% | Val Acc: 70.40%\n"
     ]
    },
    {
     "name": "stderr",
     "output_type": "stream",
     "text": [
      "Epoch 10/80: 100%|██████████| 123/123 [02:19<00:00,  1.13s/it, loss=0.462, acc=89.24%, lr=0.000125]\n"
     ]
    },
    {
     "name": "stdout",
     "output_type": "stream",
     "text": [
      "Epoch 10/80 | Train Loss: 0.4622 | Val Loss: 2.8922 | Train Acc: 89.24% | Val Acc: 70.70%\n"
     ]
    },
    {
     "name": "stderr",
     "output_type": "stream",
     "text": [
      "Epoch 11/80: 100%|██████████| 123/123 [02:19<00:00,  1.13s/it, loss=0.456, acc=89.50%, lr=0.000125]\n"
     ]
    },
    {
     "name": "stdout",
     "output_type": "stream",
     "text": [
      "Epoch 11/80 | Train Loss: 0.4563 | Val Loss: 2.8829 | Train Acc: 89.50% | Val Acc: 70.61%\n"
     ]
    },
    {
     "name": "stderr",
     "output_type": "stream",
     "text": [
      "Epoch 12/80: 100%|██████████| 123/123 [02:18<00:00,  1.13s/it, loss=0.463, acc=89.43%, lr=0.000125]\n"
     ]
    },
    {
     "name": "stdout",
     "output_type": "stream",
     "text": [
      "Модель сохранена с val_acc: 70.98%\n",
      "Epoch 12/80 | Train Loss: 0.4627 | Val Loss: 2.9194 | Train Acc: 89.43% | Val Acc: 70.98%\n"
     ]
    },
    {
     "name": "stderr",
     "output_type": "stream",
     "text": [
      "Epoch 13/80: 100%|██████████| 123/123 [02:16<00:00,  1.11s/it, loss=0.456, acc=89.64%, lr=6.25e-5]\n"
     ]
    },
    {
     "name": "stdout",
     "output_type": "stream",
     "text": [
      "Epoch 13/80 | Train Loss: 0.4556 | Val Loss: 2.8969 | Train Acc: 89.64% | Val Acc: 70.56%\n"
     ]
    },
    {
     "name": "stderr",
     "output_type": "stream",
     "text": [
      "Epoch 14/80: 100%|██████████| 123/123 [02:16<00:00,  1.11s/it, loss=0.454, acc=89.49%, lr=6.25e-5]\n"
     ]
    },
    {
     "name": "stdout",
     "output_type": "stream",
     "text": [
      "Epoch 14/80 | Train Loss: 0.4537 | Val Loss: 2.8918 | Train Acc: 89.49% | Val Acc: 70.82%\n"
     ]
    },
    {
     "name": "stderr",
     "output_type": "stream",
     "text": [
      "Epoch 15/80: 100%|██████████| 123/123 [02:17<00:00,  1.12s/it, loss=0.462, acc=89.35%, lr=6.25e-5]\n"
     ]
    },
    {
     "name": "stdout",
     "output_type": "stream",
     "text": [
      "Epoch 15/80 | Train Loss: 0.4624 | Val Loss: 2.9017 | Train Acc: 89.35% | Val Acc: 70.54%\n"
     ]
    },
    {
     "name": "stderr",
     "output_type": "stream",
     "text": [
      "Epoch 16/80: 100%|██████████| 123/123 [02:16<00:00,  1.11s/it, loss=0.442, acc=90.02%, lr=6.25e-5]\n"
     ]
    },
    {
     "name": "stdout",
     "output_type": "stream",
     "text": [
      "Epoch 16/80 | Train Loss: 0.4420 | Val Loss: 2.8900 | Train Acc: 90.02% | Val Acc: 70.40%\n"
     ]
    },
    {
     "name": "stderr",
     "output_type": "stream",
     "text": [
      "Epoch 17/80: 100%|██████████| 123/123 [02:17<00:00,  1.11s/it, loss=0.455, acc=89.70%, lr=3.13e-5]\n"
     ]
    },
    {
     "name": "stdout",
     "output_type": "stream",
     "text": [
      "Epoch 17/80 | Train Loss: 0.4546 | Val Loss: 2.8974 | Train Acc: 89.70% | Val Acc: 70.45%\n"
     ]
    },
    {
     "name": "stderr",
     "output_type": "stream",
     "text": [
      "Epoch 18/80: 100%|██████████| 123/123 [02:17<00:00,  1.12s/it, loss=0.444, acc=89.73%, lr=3.13e-5]\n"
     ]
    },
    {
     "name": "stdout",
     "output_type": "stream",
     "text": [
      "Epoch 18/80 | Train Loss: 0.4442 | Val Loss: 2.8929 | Train Acc: 89.73% | Val Acc: 70.36%\n"
     ]
    },
    {
     "name": "stderr",
     "output_type": "stream",
     "text": [
      "Epoch 19/80: 100%|██████████| 123/123 [02:17<00:00,  1.12s/it, loss=0.461, acc=89.14%, lr=3.13e-5]\n"
     ]
    },
    {
     "name": "stdout",
     "output_type": "stream",
     "text": [
      "Epoch 19/80 | Train Loss: 0.4613 | Val Loss: 2.8859 | Train Acc: 89.14% | Val Acc: 70.86%\n"
     ]
    },
    {
     "name": "stderr",
     "output_type": "stream",
     "text": [
      "Epoch 20/80:  71%|███████   | 87/123 [01:38<00:40,  1.13s/it, loss=0.449, acc=89.65%, lr=3.13e-5]\n"
     ]
    },
    {
     "ename": "KeyboardInterrupt",
     "evalue": "",
     "output_type": "error",
     "traceback": [
      "\u001b[1;31m---------------------------------------------------------------------------\u001b[0m",
      "\u001b[1;31mKeyboardInterrupt\u001b[0m                         Traceback (most recent call last)",
      "Cell \u001b[1;32mIn[10], line 5\u001b[0m\n\u001b[0;32m      1\u001b[0m model \u001b[38;5;241m=\u001b[39m ResNetWithEmbeddings(embedding_size\u001b[38;5;241m=\u001b[39m\u001b[38;5;241m512\u001b[39m)\n\u001b[0;32m      3\u001b[0m arcface_layer \u001b[38;5;241m=\u001b[39m ArcFaceLayer(in_features\u001b[38;5;241m=\u001b[39m\u001b[38;5;241m512\u001b[39m, out_features\u001b[38;5;241m=\u001b[39mnum_classes_actual, s\u001b[38;5;241m=\u001b[39m\u001b[38;5;241m45.0\u001b[39m, m\u001b[38;5;241m=\u001b[39m\u001b[38;5;241m0.1\u001b[39m)\n\u001b[1;32m----> 5\u001b[0m trained_model, history \u001b[38;5;241m=\u001b[39m \u001b[43mtrain_arcface\u001b[49m\u001b[43m(\u001b[49m\n\u001b[0;32m      6\u001b[0m \u001b[43m    \u001b[49m\u001b[43mmodel\u001b[49m\u001b[38;5;241;43m=\u001b[39;49m\u001b[43mmodel\u001b[49m\u001b[43m,\u001b[49m\n\u001b[0;32m      7\u001b[0m \u001b[43m    \u001b[49m\u001b[43marcface_layer\u001b[49m\u001b[38;5;241;43m=\u001b[39;49m\u001b[43marcface_layer\u001b[49m\u001b[43m,\u001b[49m\n\u001b[0;32m      8\u001b[0m \u001b[43m    \u001b[49m\u001b[43mtrain_dataset\u001b[49m\u001b[38;5;241;43m=\u001b[39;49m\u001b[43mtrain_dataset\u001b[49m\u001b[43m,\u001b[49m\n\u001b[0;32m      9\u001b[0m \u001b[43m    \u001b[49m\u001b[43mval_dataset\u001b[49m\u001b[38;5;241;43m=\u001b[39;49m\u001b[43mval_dataset\u001b[49m\u001b[43m,\u001b[49m\n\u001b[0;32m     10\u001b[0m \u001b[43m    \u001b[49m\u001b[43mepochs\u001b[49m\u001b[38;5;241;43m=\u001b[39;49m\u001b[38;5;241;43m80\u001b[39;49m\u001b[43m,\u001b[49m\n\u001b[0;32m     11\u001b[0m \u001b[43m    \u001b[49m\u001b[43mbatch_size\u001b[49m\u001b[38;5;241;43m=\u001b[39;49m\u001b[38;5;241;43m128\u001b[39;49m\u001b[43m,\u001b[49m\n\u001b[0;32m     12\u001b[0m \u001b[43m    \u001b[49m\u001b[43mlr\u001b[49m\u001b[38;5;241;43m=\u001b[39;49m\u001b[38;5;241;43m0.0005\u001b[39;49m\u001b[43m,\u001b[49m\n\u001b[0;32m     13\u001b[0m \u001b[43m    \u001b[49m\u001b[43mdevice\u001b[49m\u001b[38;5;241;43m=\u001b[39;49m\u001b[38;5;124;43m'\u001b[39;49m\u001b[38;5;124;43mcuda\u001b[39;49m\u001b[38;5;124;43m'\u001b[39;49m\u001b[43m,\u001b[49m\n\u001b[0;32m     14\u001b[0m \u001b[43m    \u001b[49m\u001b[43msavepath\u001b[49m\u001b[38;5;241;43m=\u001b[39;49m\u001b[38;5;124;43m'\u001b[39;49m\u001b[38;5;124;43mbest_ARC_face_resnet50VBEST.pth\u001b[39;49m\u001b[38;5;124;43m'\u001b[39;49m\u001b[43m,\u001b[49m\n\u001b[0;32m     15\u001b[0m \u001b[43m    \u001b[49m\u001b[43mpre_train\u001b[49m\u001b[43m \u001b[49m\u001b[38;5;241;43m=\u001b[39;49m\u001b[43m \u001b[49m\u001b[38;5;124;43m'\u001b[39;49m\u001b[38;5;124;43mbest_ARC_face_resnet50V26.pth\u001b[39;49m\u001b[38;5;124;43m'\u001b[39;49m\n\u001b[0;32m     16\u001b[0m \u001b[43m)\u001b[49m\n",
      "Cell \u001b[1;32mIn[9], line 49\u001b[0m, in \u001b[0;36mtrain_arcface\u001b[1;34m(model, arcface_layer, train_dataset, val_dataset, epochs, batch_size, lr, device, savepath, pre_train, tta_steps)\u001b[0m\n\u001b[0;32m     46\u001b[0m running_loss, correct, total \u001b[38;5;241m=\u001b[39m \u001b[38;5;241m0.0\u001b[39m, \u001b[38;5;241m0\u001b[39m, \u001b[38;5;241m0\u001b[39m\n\u001b[0;32m     47\u001b[0m progress_bar \u001b[38;5;241m=\u001b[39m tqdm(train_loader, desc\u001b[38;5;241m=\u001b[39m\u001b[38;5;124mf\u001b[39m\u001b[38;5;124m'\u001b[39m\u001b[38;5;124mEpoch \u001b[39m\u001b[38;5;132;01m{\u001b[39;00mepoch\u001b[38;5;241m+\u001b[39m\u001b[38;5;241m1\u001b[39m\u001b[38;5;132;01m}\u001b[39;00m\u001b[38;5;124m/\u001b[39m\u001b[38;5;132;01m{\u001b[39;00mepochs\u001b[38;5;132;01m}\u001b[39;00m\u001b[38;5;124m'\u001b[39m)\n\u001b[1;32m---> 49\u001b[0m \u001b[38;5;28;01mfor\u001b[39;00m images, labels \u001b[38;5;129;01min\u001b[39;00m progress_bar:\n\u001b[0;32m     50\u001b[0m     images, labels \u001b[38;5;241m=\u001b[39m images\u001b[38;5;241m.\u001b[39mto(device), labels\u001b[38;5;241m.\u001b[39mto(device)\n\u001b[0;32m     51\u001b[0m     optimizer\u001b[38;5;241m.\u001b[39mzero_grad()\n",
      "File \u001b[1;32mc:\\Users\\odron\\myenv\\lib\\site-packages\\tqdm\\std.py:1181\u001b[0m, in \u001b[0;36mtqdm.__iter__\u001b[1;34m(self)\u001b[0m\n\u001b[0;32m   1178\u001b[0m time \u001b[38;5;241m=\u001b[39m \u001b[38;5;28mself\u001b[39m\u001b[38;5;241m.\u001b[39m_time\n\u001b[0;32m   1180\u001b[0m \u001b[38;5;28;01mtry\u001b[39;00m:\n\u001b[1;32m-> 1181\u001b[0m     \u001b[38;5;28;01mfor\u001b[39;00m obj \u001b[38;5;129;01min\u001b[39;00m iterable:\n\u001b[0;32m   1182\u001b[0m         \u001b[38;5;28;01myield\u001b[39;00m obj\n\u001b[0;32m   1183\u001b[0m         \u001b[38;5;66;03m# Update and possibly print the progressbar.\u001b[39;00m\n\u001b[0;32m   1184\u001b[0m         \u001b[38;5;66;03m# Note: does not call self.update(1) for speed optimisation.\u001b[39;00m\n",
      "File \u001b[1;32mc:\\Users\\odron\\myenv\\lib\\site-packages\\torch\\utils\\data\\dataloader.py:701\u001b[0m, in \u001b[0;36m_BaseDataLoaderIter.__next__\u001b[1;34m(self)\u001b[0m\n\u001b[0;32m    698\u001b[0m \u001b[38;5;28;01mif\u001b[39;00m \u001b[38;5;28mself\u001b[39m\u001b[38;5;241m.\u001b[39m_sampler_iter \u001b[38;5;129;01mis\u001b[39;00m \u001b[38;5;28;01mNone\u001b[39;00m:\n\u001b[0;32m    699\u001b[0m     \u001b[38;5;66;03m# TODO(https://github.com/pytorch/pytorch/issues/76750)\u001b[39;00m\n\u001b[0;32m    700\u001b[0m     \u001b[38;5;28mself\u001b[39m\u001b[38;5;241m.\u001b[39m_reset()  \u001b[38;5;66;03m# type: ignore[call-arg]\u001b[39;00m\n\u001b[1;32m--> 701\u001b[0m data \u001b[38;5;241m=\u001b[39m \u001b[38;5;28;43mself\u001b[39;49m\u001b[38;5;241;43m.\u001b[39;49m\u001b[43m_next_data\u001b[49m\u001b[43m(\u001b[49m\u001b[43m)\u001b[49m\n\u001b[0;32m    702\u001b[0m \u001b[38;5;28mself\u001b[39m\u001b[38;5;241m.\u001b[39m_num_yielded \u001b[38;5;241m+\u001b[39m\u001b[38;5;241m=\u001b[39m \u001b[38;5;241m1\u001b[39m\n\u001b[0;32m    703\u001b[0m \u001b[38;5;28;01mif\u001b[39;00m (\n\u001b[0;32m    704\u001b[0m     \u001b[38;5;28mself\u001b[39m\u001b[38;5;241m.\u001b[39m_dataset_kind \u001b[38;5;241m==\u001b[39m _DatasetKind\u001b[38;5;241m.\u001b[39mIterable\n\u001b[0;32m    705\u001b[0m     \u001b[38;5;129;01mand\u001b[39;00m \u001b[38;5;28mself\u001b[39m\u001b[38;5;241m.\u001b[39m_IterableDataset_len_called \u001b[38;5;129;01mis\u001b[39;00m \u001b[38;5;129;01mnot\u001b[39;00m \u001b[38;5;28;01mNone\u001b[39;00m\n\u001b[0;32m    706\u001b[0m     \u001b[38;5;129;01mand\u001b[39;00m \u001b[38;5;28mself\u001b[39m\u001b[38;5;241m.\u001b[39m_num_yielded \u001b[38;5;241m>\u001b[39m \u001b[38;5;28mself\u001b[39m\u001b[38;5;241m.\u001b[39m_IterableDataset_len_called\n\u001b[0;32m    707\u001b[0m ):\n",
      "File \u001b[1;32mc:\\Users\\odron\\myenv\\lib\\site-packages\\torch\\utils\\data\\dataloader.py:757\u001b[0m, in \u001b[0;36m_SingleProcessDataLoaderIter._next_data\u001b[1;34m(self)\u001b[0m\n\u001b[0;32m    755\u001b[0m \u001b[38;5;28;01mdef\u001b[39;00m\u001b[38;5;250m \u001b[39m\u001b[38;5;21m_next_data\u001b[39m(\u001b[38;5;28mself\u001b[39m):\n\u001b[0;32m    756\u001b[0m     index \u001b[38;5;241m=\u001b[39m \u001b[38;5;28mself\u001b[39m\u001b[38;5;241m.\u001b[39m_next_index()  \u001b[38;5;66;03m# may raise StopIteration\u001b[39;00m\n\u001b[1;32m--> 757\u001b[0m     data \u001b[38;5;241m=\u001b[39m \u001b[38;5;28;43mself\u001b[39;49m\u001b[38;5;241;43m.\u001b[39;49m\u001b[43m_dataset_fetcher\u001b[49m\u001b[38;5;241;43m.\u001b[39;49m\u001b[43mfetch\u001b[49m\u001b[43m(\u001b[49m\u001b[43mindex\u001b[49m\u001b[43m)\u001b[49m  \u001b[38;5;66;03m# may raise StopIteration\u001b[39;00m\n\u001b[0;32m    758\u001b[0m     \u001b[38;5;28;01mif\u001b[39;00m \u001b[38;5;28mself\u001b[39m\u001b[38;5;241m.\u001b[39m_pin_memory:\n\u001b[0;32m    759\u001b[0m         data \u001b[38;5;241m=\u001b[39m _utils\u001b[38;5;241m.\u001b[39mpin_memory\u001b[38;5;241m.\u001b[39mpin_memory(data, \u001b[38;5;28mself\u001b[39m\u001b[38;5;241m.\u001b[39m_pin_memory_device)\n",
      "File \u001b[1;32mc:\\Users\\odron\\myenv\\lib\\site-packages\\torch\\utils\\data\\_utils\\fetch.py:52\u001b[0m, in \u001b[0;36m_MapDatasetFetcher.fetch\u001b[1;34m(self, possibly_batched_index)\u001b[0m\n\u001b[0;32m     50\u001b[0m         data \u001b[38;5;241m=\u001b[39m \u001b[38;5;28mself\u001b[39m\u001b[38;5;241m.\u001b[39mdataset\u001b[38;5;241m.\u001b[39m__getitems__(possibly_batched_index)\n\u001b[0;32m     51\u001b[0m     \u001b[38;5;28;01melse\u001b[39;00m:\n\u001b[1;32m---> 52\u001b[0m         data \u001b[38;5;241m=\u001b[39m [\u001b[38;5;28mself\u001b[39m\u001b[38;5;241m.\u001b[39mdataset[idx] \u001b[38;5;28;01mfor\u001b[39;00m idx \u001b[38;5;129;01min\u001b[39;00m possibly_batched_index]\n\u001b[0;32m     53\u001b[0m \u001b[38;5;28;01melse\u001b[39;00m:\n\u001b[0;32m     54\u001b[0m     data \u001b[38;5;241m=\u001b[39m \u001b[38;5;28mself\u001b[39m\u001b[38;5;241m.\u001b[39mdataset[possibly_batched_index]\n",
      "File \u001b[1;32mc:\\Users\\odron\\myenv\\lib\\site-packages\\torch\\utils\\data\\_utils\\fetch.py:52\u001b[0m, in \u001b[0;36m<listcomp>\u001b[1;34m(.0)\u001b[0m\n\u001b[0;32m     50\u001b[0m         data \u001b[38;5;241m=\u001b[39m \u001b[38;5;28mself\u001b[39m\u001b[38;5;241m.\u001b[39mdataset\u001b[38;5;241m.\u001b[39m__getitems__(possibly_batched_index)\n\u001b[0;32m     51\u001b[0m     \u001b[38;5;28;01melse\u001b[39;00m:\n\u001b[1;32m---> 52\u001b[0m         data \u001b[38;5;241m=\u001b[39m [\u001b[38;5;28;43mself\u001b[39;49m\u001b[38;5;241;43m.\u001b[39;49m\u001b[43mdataset\u001b[49m\u001b[43m[\u001b[49m\u001b[43midx\u001b[49m\u001b[43m]\u001b[49m \u001b[38;5;28;01mfor\u001b[39;00m idx \u001b[38;5;129;01min\u001b[39;00m possibly_batched_index]\n\u001b[0;32m     53\u001b[0m \u001b[38;5;28;01melse\u001b[39;00m:\n\u001b[0;32m     54\u001b[0m     data \u001b[38;5;241m=\u001b[39m \u001b[38;5;28mself\u001b[39m\u001b[38;5;241m.\u001b[39mdataset[possibly_batched_index]\n",
      "Cell \u001b[1;32mIn[4], line 43\u001b[0m, in \u001b[0;36mCelebDataset.__getitem__\u001b[1;34m(self, idx)\u001b[0m\n\u001b[0;32m     40\u001b[0m     \u001b[38;5;28;01mraise\u001b[39;00m \u001b[38;5;167;01mFileNotFoundError\u001b[39;00m(\u001b[38;5;124mf\u001b[39m\u001b[38;5;124m\"\u001b[39m\u001b[38;5;124mОшибка загрузки: \u001b[39m\u001b[38;5;132;01m{\u001b[39;00mimg_path\u001b[38;5;132;01m}\u001b[39;00m\u001b[38;5;124m\"\u001b[39m)\n\u001b[0;32m     42\u001b[0m image \u001b[38;5;241m=\u001b[39m cv2\u001b[38;5;241m.\u001b[39mcvtColor(image, cv2\u001b[38;5;241m.\u001b[39mCOLOR_BGR2RGB)\n\u001b[1;32m---> 43\u001b[0m image \u001b[38;5;241m=\u001b[39m \u001b[38;5;28;43mself\u001b[39;49m\u001b[38;5;241;43m.\u001b[39;49m\u001b[43mtrain_transforms\u001b[49m\u001b[43m(\u001b[49m\u001b[43mimage\u001b[49m\u001b[43m)\u001b[49m \u001b[38;5;28;01mif\u001b[39;00m \u001b[38;5;28mself\u001b[39m\u001b[38;5;241m.\u001b[39mtraining \u001b[38;5;28;01melse\u001b[39;00m \u001b[38;5;28mself\u001b[39m\u001b[38;5;241m.\u001b[39mval_transforms(image)\n\u001b[0;32m     45\u001b[0m label \u001b[38;5;241m=\u001b[39m \u001b[38;5;28mself\u001b[39m\u001b[38;5;241m.\u001b[39mlabels[idx]\n\u001b[0;32m     46\u001b[0m \u001b[38;5;28;01mreturn\u001b[39;00m image, label\n",
      "File \u001b[1;32mc:\\Users\\odron\\myenv\\lib\\site-packages\\torchvision\\transforms\\transforms.py:95\u001b[0m, in \u001b[0;36mCompose.__call__\u001b[1;34m(self, img)\u001b[0m\n\u001b[0;32m     93\u001b[0m \u001b[38;5;28;01mdef\u001b[39;00m\u001b[38;5;250m \u001b[39m\u001b[38;5;21m__call__\u001b[39m(\u001b[38;5;28mself\u001b[39m, img):\n\u001b[0;32m     94\u001b[0m     \u001b[38;5;28;01mfor\u001b[39;00m t \u001b[38;5;129;01min\u001b[39;00m \u001b[38;5;28mself\u001b[39m\u001b[38;5;241m.\u001b[39mtransforms:\n\u001b[1;32m---> 95\u001b[0m         img \u001b[38;5;241m=\u001b[39m \u001b[43mt\u001b[49m\u001b[43m(\u001b[49m\u001b[43mimg\u001b[49m\u001b[43m)\u001b[49m\n\u001b[0;32m     96\u001b[0m     \u001b[38;5;28;01mreturn\u001b[39;00m img\n",
      "File \u001b[1;32mc:\\Users\\odron\\myenv\\lib\\site-packages\\torch\\nn\\modules\\module.py:1736\u001b[0m, in \u001b[0;36mModule._wrapped_call_impl\u001b[1;34m(self, *args, **kwargs)\u001b[0m\n\u001b[0;32m   1734\u001b[0m     \u001b[38;5;28;01mreturn\u001b[39;00m \u001b[38;5;28mself\u001b[39m\u001b[38;5;241m.\u001b[39m_compiled_call_impl(\u001b[38;5;241m*\u001b[39margs, \u001b[38;5;241m*\u001b[39m\u001b[38;5;241m*\u001b[39mkwargs)  \u001b[38;5;66;03m# type: ignore[misc]\u001b[39;00m\n\u001b[0;32m   1735\u001b[0m \u001b[38;5;28;01melse\u001b[39;00m:\n\u001b[1;32m-> 1736\u001b[0m     \u001b[38;5;28;01mreturn\u001b[39;00m \u001b[38;5;28mself\u001b[39m\u001b[38;5;241m.\u001b[39m_call_impl(\u001b[38;5;241m*\u001b[39margs, \u001b[38;5;241m*\u001b[39m\u001b[38;5;241m*\u001b[39mkwargs)\n",
      "File \u001b[1;32mc:\\Users\\odron\\myenv\\lib\\site-packages\\torch\\nn\\modules\\module.py:1747\u001b[0m, in \u001b[0;36mModule._call_impl\u001b[1;34m(self, *args, **kwargs)\u001b[0m\n\u001b[0;32m   1742\u001b[0m \u001b[38;5;66;03m# If we don't have any hooks, we want to skip the rest of the logic in\u001b[39;00m\n\u001b[0;32m   1743\u001b[0m \u001b[38;5;66;03m# this function, and just call forward.\u001b[39;00m\n\u001b[0;32m   1744\u001b[0m \u001b[38;5;28;01mif\u001b[39;00m \u001b[38;5;129;01mnot\u001b[39;00m (\u001b[38;5;28mself\u001b[39m\u001b[38;5;241m.\u001b[39m_backward_hooks \u001b[38;5;129;01mor\u001b[39;00m \u001b[38;5;28mself\u001b[39m\u001b[38;5;241m.\u001b[39m_backward_pre_hooks \u001b[38;5;129;01mor\u001b[39;00m \u001b[38;5;28mself\u001b[39m\u001b[38;5;241m.\u001b[39m_forward_hooks \u001b[38;5;129;01mor\u001b[39;00m \u001b[38;5;28mself\u001b[39m\u001b[38;5;241m.\u001b[39m_forward_pre_hooks\n\u001b[0;32m   1745\u001b[0m         \u001b[38;5;129;01mor\u001b[39;00m _global_backward_pre_hooks \u001b[38;5;129;01mor\u001b[39;00m _global_backward_hooks\n\u001b[0;32m   1746\u001b[0m         \u001b[38;5;129;01mor\u001b[39;00m _global_forward_hooks \u001b[38;5;129;01mor\u001b[39;00m _global_forward_pre_hooks):\n\u001b[1;32m-> 1747\u001b[0m     \u001b[38;5;28;01mreturn\u001b[39;00m forward_call(\u001b[38;5;241m*\u001b[39margs, \u001b[38;5;241m*\u001b[39m\u001b[38;5;241m*\u001b[39mkwargs)\n\u001b[0;32m   1749\u001b[0m result \u001b[38;5;241m=\u001b[39m \u001b[38;5;28;01mNone\u001b[39;00m\n\u001b[0;32m   1750\u001b[0m called_always_called_hooks \u001b[38;5;241m=\u001b[39m \u001b[38;5;28mset\u001b[39m()\n",
      "File \u001b[1;32mc:\\Users\\odron\\myenv\\lib\\site-packages\\torchvision\\transforms\\transforms.py:712\u001b[0m, in \u001b[0;36mRandomHorizontalFlip.forward\u001b[1;34m(self, img)\u001b[0m\n\u001b[0;32m    704\u001b[0m \u001b[38;5;28;01mdef\u001b[39;00m\u001b[38;5;250m \u001b[39m\u001b[38;5;21mforward\u001b[39m(\u001b[38;5;28mself\u001b[39m, img):\n\u001b[0;32m    705\u001b[0m \u001b[38;5;250m    \u001b[39m\u001b[38;5;124;03m\"\"\"\u001b[39;00m\n\u001b[0;32m    706\u001b[0m \u001b[38;5;124;03m    Args:\u001b[39;00m\n\u001b[0;32m    707\u001b[0m \u001b[38;5;124;03m        img (PIL Image or Tensor): Image to be flipped.\u001b[39;00m\n\u001b[1;32m   (...)\u001b[0m\n\u001b[0;32m    710\u001b[0m \u001b[38;5;124;03m        PIL Image or Tensor: Randomly flipped image.\u001b[39;00m\n\u001b[0;32m    711\u001b[0m \u001b[38;5;124;03m    \"\"\"\u001b[39;00m\n\u001b[1;32m--> 712\u001b[0m     \u001b[38;5;28;01mif\u001b[39;00m \u001b[43mtorch\u001b[49m\u001b[38;5;241;43m.\u001b[39;49m\u001b[43mrand\u001b[49m\u001b[43m(\u001b[49m\u001b[38;5;241;43m1\u001b[39;49m\u001b[43m)\u001b[49m\u001b[43m \u001b[49m\u001b[38;5;241;43m<\u001b[39;49m\u001b[43m \u001b[49m\u001b[38;5;28;43mself\u001b[39;49m\u001b[38;5;241;43m.\u001b[39;49m\u001b[43mp\u001b[49m:\n\u001b[0;32m    713\u001b[0m         \u001b[38;5;28;01mreturn\u001b[39;00m F\u001b[38;5;241m.\u001b[39mhflip(img)\n\u001b[0;32m    714\u001b[0m     \u001b[38;5;28;01mreturn\u001b[39;00m img\n",
      "\u001b[1;31mKeyboardInterrupt\u001b[0m: "
     ]
    }
   ],
   "source": [
    "model = ResNetWithEmbeddings(embedding_size=512)\n",
    " \n",
    "arcface_layer = ArcFaceLayer(in_features=512, out_features=num_classes_actual, s=45.0, m=0.1)\n",
    "\n",
    "trained_model, history = train_arcface(\n",
    "    model=model,\n",
    "    arcface_layer=arcface_layer,\n",
    "    train_dataset=train_dataset,\n",
    "    val_dataset=val_dataset,\n",
    "    epochs=80,\n",
    "    batch_size=128,\n",
    "    lr=0.0005,\n",
    "    device='cuda',\n",
    "    savepath='best_ARC_face_resnet50VBEST2.pth',\n",
    "    pre_train = 'best_ARC_face_resnet50VBEST.pth'\n",
    ")"
   ]
  }
 ],
 "metadata": {
  "kernelspec": {
   "display_name": "Python (myenv)",
   "language": "python",
   "name": "myenv"
  },
  "language_info": {
   "codemirror_mode": {
    "name": "ipython",
    "version": 3
   },
   "file_extension": ".py",
   "mimetype": "text/x-python",
   "name": "python",
   "nbconvert_exporter": "python",
   "pygments_lexer": "ipython3",
   "version": "3.10.9"
  }
 },
 "nbformat": 4,
 "nbformat_minor": 5
}
