{
  "cells": [
    {
      "cell_type": "markdown",
      "metadata": {
        "id": "EI80vHxcRo4u"
      },
      "source": [
        "**Доплитература по ArcFace Loss:**\n",
        "\n",
        "Оригинальная статья: https://arxiv.org/pdf/1801.07698.pdf"
      ]
    },
    {
      "cell_type": "markdown",
      "metadata": {
        "id": "qhF-n904jYJz"
      },
      "source": [
        "# План заданий"
      ]
    },
    {
      "cell_type": "markdown",
      "metadata": {
        "id": "dqmhb66-jhaK"
      },
      "source": [
        "Итак, вот, что от вас требуется в этом задании:\n",
        "\n",
        "* Выбрать модель (или несколько моделей) для обучения. Можно брать предобученные на ImageNet, но нельзя использовать модели, предобученные на задачу распознавания лиц.\n",
        "* Обучить эту модель (модели) на CE loss. Добиться accuracy > 0.7.\n",
        "* Реализовать ArcFace loss.\n",
        "* Обучить модель (модели) на ArcFace loss. Добиться accuracy > 0.7.\n",
        "* Написать небольшой отчет по обучению, сравнить CE loss и ArcFace loss.\n",
        "\n",
        "**P.S. Не забывайте сохранять модели после обучения**"
      ]
    },
    {
      "cell_type": "markdown",
      "metadata": {
        "id": "HzDWCmwN-NU2"
      },
      "source": [
        "#Модель"
      ]
    },
    {
      "cell_type": "code",
      "execution_count": 1,
      "metadata": {
        "id": "m39hgTZWrHvt"
      },
      "outputs": [],
      "source": [
        "import torch\n",
        "import torch.nn as nn\n",
        "import torchvision.models as models\n",
        "from torch.optim import Adam\n",
        "from torch.utils.data import DataLoader\n",
        "import math\n",
        "import pandas as pd\n",
        "import os\n",
        "from torch.utils.data import Dataset\n",
        "import cv2\n",
        "from torch.optim.lr_scheduler import ReduceLROnPlateau\n",
        "from tqdm import tqdm\n",
        "from sklearn.model_selection import train_test_split\n",
        "from matplotlib import pyplot as plt\n",
        "from torchvision import transforms\n",
        "import torch.nn.functional as F"
      ]
    },
    {
      "cell_type": "code",
      "execution_count": 2,
      "metadata": {
        "colab": {
          "base_uri": "https://localhost:8080/"
        },
        "id": "BwiSBJa8EZRV",
        "outputId": "6220c326-00ee-4265-b33e-465003f7bd6b"
      },
      "outputs": [
        {
          "name": "stdout",
          "output_type": "stream",
          "text": [
            "{'total_images': 20000, 'unique_people': 956, 'images_per_person': {'count': 956.0, 'mean': 20.92050209205021, 'std': 1.5626391151459447, 'min': 3.0, '25%': 20.0, '50%': 21.0, '75%': 22.0, 'max': 27.0}}\n"
          ]
        }
      ],
      "source": [
        "# Код для сортировки изображений, чтобы использовались только те ID, что есть в датасете\n",
        "idf_path = \"D:\\\\dlsPart2\\\\identity_CelebA3.txt\"\n",
        "img_folder = \"D:\\\\dlsPart2\\\\Aligned_Images3\"\n",
        "\n",
        "identity_df = pd.read_csv(idf_path, sep=' ', header=None, names=['filename', 'person_id'])\n",
        "\n",
        "files = set(os.listdir(img_folder))\n",
        "\n",
        "filtered_df = identity_df[identity_df['filename'].isin(files)]\n",
        "\n",
        "num_people = filtered_df['person_id'].nunique()\n",
        "\n",
        "stats = {\n",
        "    'total_images': len(filtered_df),\n",
        "    'unique_people': num_people,\n",
        "    'images_per_person': filtered_df['person_id'].value_counts().describe().to_dict()\n",
        "}\n",
        "print(stats)"
      ]
    },
    {
      "cell_type": "code",
      "execution_count": 3,
      "metadata": {
        "id": "04ZjrBsQJ_iV"
      },
      "outputs": [],
      "source": [
        "class CelebDataset(Dataset):\n",
        "    def __init__(self, img_folder, identity_data, id_to_label, training=True):\n",
        "        \n",
        "        self.img_folder = img_folder\n",
        "        self.identity_df = identity_data\n",
        "        self.training = training\n",
        "\n",
        "        # Фильтрация (оставляем на всякий случай)\n",
        "        files = set(os.listdir(img_folder))\n",
        "        self.identity_df = self.identity_df[self.identity_df['filename'].isin(files)]\n",
        "\n",
        "        self.id_to_label = id_to_label\n",
        "\n",
        "        self.img_paths = self.identity_df['filename'].tolist()\n",
        "        # Применяем единый словарь для получения меток\n",
        "        self.labels = self.identity_df['person_id'].map(self.id_to_label).tolist()\n",
        "\n",
        "        self.train_transforms = transforms.Compose([\n",
        "            transforms.ToPILImage(),\n",
        "            transforms.RandomHorizontalFlip(p=0.5),  # Отражение по горизонтали\n",
        "            transforms.RandomAffine(degrees=0, translate=(0.1, 0.1), scale=(0.9, 1.1)),  # Сдвиги и масштабирование\n",
        "            transforms.ColorJitter(brightness=0.2, contrast=0.2, saturation=0.2, hue=0.1),  # Цветовые изменения\n",
        "            transforms.ToTensor(),\n",
        "            transforms.Normalize(mean=[0.485, 0.456, 0.406], std=[0.229, 0.224, 0.225])  # Нормализация для ImageNet\n",
        "        ])\n",
        "\n",
        "        self.val_transforms = transforms.Compose([\n",
        "            transforms.ToPILImage(),\n",
        "            transforms.ToTensor(),\n",
        "            transforms.Normalize(mean=[0.485, 0.456, 0.406], std=[0.229, 0.224, 0.225])\n",
        "        ])\n",
        "\n",
        "    def __len__(self):\n",
        "        return len(self.img_paths)\n",
        "\n",
        "    def __getitem__(self, idx):\n",
        "        img_path = os.path.join(self.img_folder, self.img_paths[idx])\n",
        "        image = cv2.imread(img_path)\n",
        "        if image is None:\n",
        "            raise FileNotFoundError(f\"Ошибка загрузки: {img_path}\")\n",
        "\n",
        "        image = cv2.cvtColor(image, cv2.COLOR_BGR2RGB)\n",
        "        image = self.train_transforms(image) if self.training else self.val_transforms(image)\n",
        "\n",
        "        label = self.labels[idx]\n",
        "        return image, label"
      ]
    },
    {
      "cell_type": "code",
      "execution_count": 4,
      "metadata": {
        "colab": {
          "base_uri": "https://localhost:8080/"
        },
        "id": "YSfAH5ZrLeYF",
        "outputId": "60858d52-2271-4eb1-d97c-4d11d75520e9"
      },
      "outputs": [
        {
          "name": "stderr",
          "output_type": "stream",
          "text": [
            "c:\\Users\\odron\\myenv\\lib\\site-packages\\torchvision\\models\\_utils.py:208: UserWarning: The parameter 'pretrained' is deprecated since 0.13 and may be removed in the future, please use 'weights' instead.\n",
            "  warnings.warn(\n",
            "c:\\Users\\odron\\myenv\\lib\\site-packages\\torchvision\\models\\_utils.py:223: UserWarning: Arguments other than a weight enum or `None` for 'weights' are deprecated since 0.13 and may be removed in the future. The current behavior is equivalent to passing `weights=ResNet50_Weights.IMAGENET1K_V1`. You can also use `weights=ResNet50_Weights.DEFAULT` to get the most up-to-date weights.\n",
            "  warnings.warn(msg)\n"
          ]
        }
      ],
      "source": [
        "import torchvision.models as models\n",
        "\n",
        "num_classes = num_people\n",
        "model = models.resnet50(pretrained=True) # Возьмем resnet50, тк в статье была именно она\n",
        "for param in model.parameters():\n",
        "    param.requires_grad = False\n",
        "for param in model.layer4.parameters():  # Размораживаем только верхний блок\n",
        "    param.requires_grad = True\n",
        "model.fc = nn.Sequential(\n",
        "    nn.Dropout(p=0.60), # Типичное значение во время обучения 0.5, в конце повысил, чтобы приподнять val_acc\n",
        "    nn.Linear(model.fc.in_features, num_classes)  # Полносвязный слой для классификации\n",
        ")\n",
        "model = model.cuda()"
      ]
    },
    {
      "cell_type": "code",
      "execution_count": 5,
      "metadata": {
        "id": "nvUgeWM0Mg1-"
      },
      "outputs": [],
      "source": [
        "def train(model, train_dataset, val_dataset, epochs=50, batch_size=32, lr=0.001,\n",
        "          device='cuda', savepath=\"model.pth\", pre_train=None):\n",
        "\n",
        "    if pre_train is not None:\n",
        "        model.load_state_dict(torch.load(pre_train))\n",
        "        print(f\"Загружены предобученные веса из {pre_train}\")\n",
        "\n",
        "    train_loader = DataLoader(train_dataset, batch_size=batch_size, shuffle=True, num_workers=0)\n",
        "    val_loader = DataLoader(val_dataset, batch_size=batch_size, shuffle=False, num_workers=0)\n",
        "\n",
        "    #optimizer = torch.optim.Adam(model.parameters(), lr=lr, weight_decay=2e-4) # Основой оптимайзер\n",
        "    optimizer = torch.optim.SGD(model.parameters(), lr=lr, momentum=0.9, weight_decay=1e-4) # для добивочки :)\n",
        "    scheduler = ReduceLROnPlateau(optimizer, mode='min', factor=0.6, patience=3) # Помогал, но часто приходилось руками делать\n",
        "    criterion = nn.CrossEntropyLoss()\n",
        "\n",
        "    model = model.to(device)\n",
        "    history = {\n",
        "        'train_loss': [],\n",
        "        'val_loss': [],\n",
        "        'train_acc': [],\n",
        "        'val_acc': [],\n",
        "        'best_val_loss': float('inf'),\n",
        "        'best_val_acc': 0.0\n",
        "    }\n",
        "\n",
        "    for epoch in range(epochs):\n",
        "        model.train()\n",
        "        running_loss = 0.0\n",
        "        correct = 0\n",
        "        total = 0\n",
        "\n",
        "        progress_bar = tqdm(train_loader, desc=f'Epoch {epoch+1}/{epochs}')\n",
        "\n",
        "        for images, labels in progress_bar:\n",
        "            images = images.to(device)\n",
        "            labels = labels.to(device)\n",
        "\n",
        "            optimizer.zero_grad()\n",
        "\n",
        "            outputs = model(images)\n",
        "            loss = criterion(outputs, labels)\n",
        "\n",
        "            loss.backward()\n",
        "            optimizer.step()\n",
        "\n",
        "            running_loss += loss.item() * images.size(0)\n",
        "            _, predicted = torch.max(outputs.data, 1)\n",
        "            total += labels.size(0)\n",
        "            correct += (predicted == labels).sum().item()\n",
        "\n",
        "            progress_bar.set_postfix({\n",
        "                'loss': loss.item(),\n",
        "                'acc': f\"{100 * correct / total:.2f}%\",\n",
        "                'lr': optimizer.param_groups[0]['lr']\n",
        "            })\n",
        "\n",
        "        epoch_train_loss = running_loss / len(train_dataset)\n",
        "        epoch_train_acc = 100 * correct / total\n",
        "        history['train_loss'].append(epoch_train_loss)\n",
        "        history['train_acc'].append(epoch_train_acc)\n",
        "\n",
        "        model.eval()\n",
        "        val_loss = 0.0\n",
        "        val_correct = 0\n",
        "        val_total = 0\n",
        "\n",
        "        with torch.no_grad():\n",
        "            for images, labels in val_loader:\n",
        "                images = images.to(device)\n",
        "                labels = labels.to(device)\n",
        "\n",
        "                # Применим TTA, чтобы дообучить модель до 70%, а то она зависла на 69...\n",
        "                # Идея в том, чтобы для каждой картинки в валидационном сете делать предсказание не только для оригинала, но и для его аугментированной версии, а потом усреднять.\n",
        "                outputs_original = model(images)\n",
        "                flipped_images = torch.flip(images, [3])\n",
        "                outputs_flipped = model(flipped_images)\n",
        "                outputs = (torch.softmax(outputs_original, dim=1) + torch.softmax(outputs_flipped, dim=1)) / 2\n",
        "                loss = criterion(torch.log(outputs), labels) \n",
        "\n",
        "                val_loss += loss.item() * images.size(0)\n",
        "                _, predicted = torch.max(outputs.data, 1)\n",
        "                val_total += labels.size(0)\n",
        "                val_correct += (predicted == labels).sum().item()\n",
        "\n",
        "        epoch_val_loss = val_loss / len(val_dataset)\n",
        "        epoch_val_acc = 100 * val_correct / val_total\n",
        "        history['val_loss'].append(epoch_val_loss)\n",
        "        history['val_acc'].append(epoch_val_acc)\n",
        "\n",
        "        scheduler.step(epoch_val_loss)\n",
        "\n",
        "        if epoch_val_acc > history['best_val_acc']:\n",
        "            history['best_val_acc'] = epoch_val_acc\n",
        "            history['best_val_loss'] = epoch_val_loss\n",
        "            torch.save(model.state_dict(), savepath)\n",
        "            print(f\"Модель сохранена с val_acc: {epoch_val_acc:.2f}%\")\n",
        "\n",
        "        print(f\"Epoch {epoch+1}/{epochs} | \"\n",
        "              f\"Train Loss: {epoch_train_loss:.4f} | Val Loss: {epoch_val_loss:.4f} | \"\n",
        "              f\"Train Acc: {epoch_train_acc:.2f}% | Val Acc: {epoch_val_acc:.2f}%\")\n",
        "\n",
        "    return model, history"
      ]
    },
    {
      "cell_type": "code",
      "execution_count": null,
      "metadata": {
        "colab": {
          "base_uri": "https://localhost:8080/"
        },
        "id": "MHd_rsDwAvPg",
        "outputId": "7fcfba8a-1296-4bc0-f435-701d8073d53c"
      },
      "outputs": [
        {
          "name": "stdout",
          "output_type": "stream",
          "text": [
            "Фактическое количество классов для обучения: 956\n",
            "Number of unique classes in train: 956\n",
            "Number of unique classes in val: 956\n",
            "Classes in val but not in train: 0\n",
            "Classes in train but not in val: 0\n",
            "\n",
            "Train dataset class distribution:\n",
            "count    956.000000\n",
            "mean      16.375523\n",
            "std        1.177533\n",
            "min        2.000000\n",
            "25%       16.000000\n",
            "50%       16.000000\n",
            "75%       17.000000\n",
            "max       21.000000\n",
            "Name: count, dtype: float64\n",
            "\n",
            "Validation dataset class distribution:\n",
            "count    956.000000\n",
            "mean       4.544979\n",
            "std        0.522846\n",
            "min        1.000000\n",
            "25%        4.000000\n",
            "50%        5.000000\n",
            "75%        5.000000\n",
            "max        6.000000\n",
            "Name: count, dtype: float64\n"
          ]
        }
      ],
      "source": [
        "# Функция для разделения данных с сохранением классов\n",
        "# Сделана, тк изначально сети было сложно обучаться, тк картинки человека могли быть в треине, но их не было в вал выборке\n",
        "def split_by_person(df, test_size=0.2, random_state=42):\n",
        "    train_dfs = []\n",
        "    val_dfs = []\n",
        "\n",
        "    for person_id in df['person_id'].unique():\n",
        "        person_data = df[df['person_id'] == person_id]\n",
        "        if len(person_data) < 2:  # Пропустить классы с 1 изображением\n",
        "            continue\n",
        "        # Разделение изображений одного человека\n",
        "        train_person, val_person = train_test_split(\n",
        "            person_data, test_size=test_size, random_state=42\n",
        "        )\n",
        "        train_dfs.append(train_person)\n",
        "        val_dfs.append(val_person)\n",
        "\n",
        "    train_df = pd.concat(train_dfs, ignore_index=True)\n",
        "    val_df = pd.concat(val_dfs, ignore_index=True)\n",
        "\n",
        "    return train_df, val_df\n",
        "\n",
        "train_df, val_df = split_by_person(filtered_df, test_size=0.20, random_state=42)\n",
        "\n",
        "# Создаем единый словарь для всех данных, которые будут использоваться\n",
        "all_used_ids = pd.concat([train_df, val_df])['person_id'].unique()\n",
        "id_to_label_map = {id_val: i for i, id_val in enumerate(all_used_ids)}\n",
        "\n",
        "num_classes_actual = len(id_to_label_map) \n",
        "print(f\"Фактическое количество классов для обучения: {num_classes_actual}\")\n",
        "\n",
        "# Проверка, что классы совпадают\n",
        "train_classes = set(train_df['person_id'].unique())\n",
        "val_classes = set(val_df['person_id'].unique())\n",
        "print(f\"Number of unique classes in train: {len(train_classes)}\")\n",
        "print(f\"Number of unique classes in val: {len(val_classes)}\")\n",
        "print(f\"Classes in val but not in train: {len(val_classes - train_classes)}\")\n",
        "print(f\"Classes in train but not in val: {len(train_classes - val_classes)}\")\n",
        "\n",
        "#Проверка баланса классов\n",
        "print(\"\\nTrain dataset class distribution:\")\n",
        "print(train_df['person_id'].value_counts().describe())\n",
        "print(\"\\nValidation dataset class distribution:\")\n",
        "print(val_df['person_id'].value_counts().describe())"
      ]
    },
    {
      "cell_type": "code",
      "execution_count": 7,
      "metadata": {},
      "outputs": [],
      "source": [
        "idf_path = \"D:\\\\dlsPart2\\\\identity_CelebA3.txt\"\n",
        "img_folder = \"D:\\\\dlsPart2\\\\Aligned_Images3\"\n",
        "\n",
        "train_dataset = CelebDataset(img_folder, train_df, id_to_label_map, training=True)\n",
        "val_dataset = CelebDataset(img_folder, val_df, id_to_label_map, training=False)"
      ]
    },
    {
      "cell_type": "code",
      "execution_count": null,
      "metadata": {
        "colab": {
          "base_uri": "https://localhost:8080/"
        },
        "id": "8zoIM6D0WSjN",
        "outputId": "1c3112f4-5d99-4c45-a545-43a9150ad8fd"
      },
      "outputs": [
        {
          "name": "stderr",
          "output_type": "stream",
          "text": [
            "C:\\Users\\odron\\AppData\\Local\\Temp\\ipykernel_24928\\3096948869.py:5: FutureWarning: You are using `torch.load` with `weights_only=False` (the current default value), which uses the default pickle module implicitly. It is possible to construct malicious pickle data which will execute arbitrary code during unpickling (See https://github.com/pytorch/pytorch/blob/main/SECURITY.md#untrusted-models for more details). In a future release, the default value for `weights_only` will be flipped to `True`. This limits the functions that could be executed during unpickling. Arbitrary objects will no longer be allowed to be loaded via this mode unless they are explicitly allowlisted by the user via `torch.serialization.add_safe_globals`. We recommend you start setting `weights_only=True` for any use case where you don't have full control of the loaded file. Please open an issue on GitHub for any issues related to this experimental feature.\n",
            "  model.load_state_dict(torch.load(pre_train))\n"
          ]
        },
        {
          "name": "stdout",
          "output_type": "stream",
          "text": [
            "Загружены предобученные веса из best_resnet50VBEST.pth\n"
          ]
        },
        {
          "name": "stderr",
          "output_type": "stream",
          "text": [
            "Epoch 1/10: 100%|██████████| 245/245 [02:49<00:00,  1.45it/s, loss=0.0574, acc=99.23%, lr=1e-6]\n"
          ]
        },
        {
          "name": "stdout",
          "output_type": "stream",
          "text": [
            "Модель сохранена с val_acc: 71.62%\n",
            "Epoch 1/10 | Train Loss: 0.0629 | Val Loss: 1.3902 | Train Acc: 99.23% | Val Acc: 71.62%\n"
          ]
        },
        {
          "name": "stderr",
          "output_type": "stream",
          "text": [
            "Epoch 2/10: 100%|██████████| 245/245 [01:57<00:00,  2.08it/s, loss=0.0899, acc=99.37%, lr=1e-6]\n"
          ]
        },
        {
          "name": "stdout",
          "output_type": "stream",
          "text": [
            "Модель сохранена с val_acc: 71.76%\n",
            "Epoch 2/10 | Train Loss: 0.0583 | Val Loss: 1.3805 | Train Acc: 99.37% | Val Acc: 71.76%\n"
          ]
        },
        {
          "name": "stderr",
          "output_type": "stream",
          "text": [
            "Epoch 3/10: 100%|██████████| 245/245 [01:59<00:00,  2.05it/s, loss=0.0317, acc=99.26%, lr=1e-6]\n"
          ]
        },
        {
          "name": "stdout",
          "output_type": "stream",
          "text": [
            "Epoch 3/10 | Train Loss: 0.0619 | Val Loss: 1.3937 | Train Acc: 99.26% | Val Acc: 71.42%\n"
          ]
        },
        {
          "name": "stderr",
          "output_type": "stream",
          "text": [
            "Epoch 4/10: 100%|██████████| 245/245 [01:59<00:00,  2.06it/s, loss=0.0243, acc=99.29%, lr=1e-6]\n"
          ]
        },
        {
          "name": "stdout",
          "output_type": "stream",
          "text": [
            "Epoch 4/10 | Train Loss: 0.0611 | Val Loss: 1.3895 | Train Acc: 99.29% | Val Acc: 71.48%\n"
          ]
        },
        {
          "name": "stderr",
          "output_type": "stream",
          "text": [
            "Epoch 5/10: 100%|██████████| 245/245 [01:58<00:00,  2.06it/s, loss=0.0745, acc=99.34%, lr=1e-6]\n"
          ]
        },
        {
          "name": "stdout",
          "output_type": "stream",
          "text": [
            "Epoch 5/10 | Train Loss: 0.0607 | Val Loss: 1.3853 | Train Acc: 99.34% | Val Acc: 71.65%\n"
          ]
        },
        {
          "name": "stderr",
          "output_type": "stream",
          "text": [
            "Epoch 6/10: 100%|██████████| 245/245 [02:01<00:00,  2.01it/s, loss=0.0756, acc=99.17%, lr=1e-6]\n"
          ]
        },
        {
          "name": "stdout",
          "output_type": "stream",
          "text": [
            "Epoch 6/10 | Train Loss: 0.0619 | Val Loss: 1.3899 | Train Acc: 99.17% | Val Acc: 71.74%\n"
          ]
        },
        {
          "name": "stderr",
          "output_type": "stream",
          "text": [
            "Epoch 7/10: 100%|██████████| 245/245 [02:05<00:00,  1.95it/s, loss=0.0723, acc=99.30%, lr=6e-7]\n"
          ]
        },
        {
          "name": "stdout",
          "output_type": "stream",
          "text": [
            "Epoch 7/10 | Train Loss: 0.0611 | Val Loss: 1.3823 | Train Acc: 99.30% | Val Acc: 71.60%\n"
          ]
        },
        {
          "name": "stderr",
          "output_type": "stream",
          "text": [
            "Epoch 8/10: 100%|██████████| 245/245 [02:01<00:00,  2.01it/s, loss=0.039, acc=99.28%, lr=6e-7] \n"
          ]
        },
        {
          "name": "stdout",
          "output_type": "stream",
          "text": [
            "Epoch 8/10 | Train Loss: 0.0607 | Val Loss: 1.3919 | Train Acc: 99.28% | Val Acc: 71.53%\n"
          ]
        },
        {
          "name": "stderr",
          "output_type": "stream",
          "text": [
            "Epoch 9/10: 100%|██████████| 245/245 [02:02<00:00,  2.00it/s, loss=0.106, acc=99.25%, lr=6e-7] \n"
          ]
        },
        {
          "name": "stdout",
          "output_type": "stream",
          "text": [
            "Epoch 9/10 | Train Loss: 0.0621 | Val Loss: 1.3934 | Train Acc: 99.25% | Val Acc: 71.58%\n"
          ]
        },
        {
          "name": "stderr",
          "output_type": "stream",
          "text": [
            "Epoch 10/10: 100%|██████████| 245/245 [02:28<00:00,  1.65it/s, loss=0.0508, acc=99.27%, lr=6e-7]\n"
          ]
        },
        {
          "name": "stdout",
          "output_type": "stream",
          "text": [
            "Epoch 10/10 | Train Loss: 0.0596 | Val Loss: 1.3864 | Train Acc: 99.27% | Val Acc: 71.74%\n"
          ]
        },
        {
          "data": {
            "image/png": "[encoded data removed]",
            "text/plain": [
              "<Figure size 640x480 with 1 Axes>"
            ]
          },
          "metadata": {},
          "output_type": "display_data"
        }
      ],
      "source": [
        "#train_df, val_df = train_test_split(filtered_df, test_size=0.2, random_state=42)\n",
        "\n",
        "# Обучалось в сумме эпох 80+-\n",
        "trained_model, history = train(\n",
        "    model=model,\n",
        "    train_dataset=train_dataset,\n",
        "    val_dataset=val_dataset,\n",
        "    epochs=10,\n",
        "    batch_size=64,\n",
        "    lr=1e-6,\n",
        "    device='cuda',\n",
        "    savepath='best_resnet50VBEST2.pth',\n",
        "    pre_train = 'best_resnet50VBEST.pth',\n",
        ")\n",
        "\n",
        "plt.plot(history['train_loss'], label='Train Loss')\n",
        "plt.plot(history['val_loss'], label='Val Loss')\n",
        "plt.legend()\n",
        "plt.show()"
      ]
    },
    {
      "cell_type": "code",
      "execution_count": null,
      "metadata": {},
      "outputs": [
        {
          "name": "stdout",
          "output_type": "stream",
          "text": [
            "Статистика отфильтрованного датасета:\n",
            "{'total_images': 20000, 'unique_people': 956, 'images_per_person': {'count': 956.0, 'mean': 20.92050209205021, 'std': 1.5626391151459447, 'min': 3.0, '25%': 20.0, '50%': 21.0, '75%': 22.0, 'max': 27.0}}\n"
          ]
        }
      ],
      "source": [
        "\n",
        "# Код для создания нового датасета, чтобы он включал в себя макс кол-во людей с наибольшим кол-вом картинок. Было сделано на 10к 20к и 30к\n",
        "\n",
        "\n",
        "import shutil\n",
        "\n",
        "idf_path = \"D:\\\\dlsPart2\\\\identity_CelebA.txt\"\n",
        "img_folder = \"D:\\\\dlsPart2\\\\img_align_celeba\\\\\"\n",
        "output_folder = \"D:\\\\dlsPart2\\\\img_align_celeba4\\\\\" # Новая папка для отфильтрованных изображений\n",
        "output_idf_path = \"D:\\\\dlsPart2\\\\identity_CelebA4.txt\"  # Новый файл меток\n",
        "\n",
        "# Целевой размер\n",
        "target_dataset_size = 20000\n",
        "\n",
        "os.makedirs(output_folder, exist_ok=True)\n",
        "identity_df = pd.read_csv(idf_path, sep=' ', header=None, names=['filename', 'person_id'])\n",
        "files = set(os.listdir(img_folder))\n",
        "filtered_df = identity_df[identity_df['filename'].isin(files)]\n",
        "\n",
        "#сортировка по убыванию\n",
        "person_counts = filtered_df['person_id'].value_counts().sort_values(ascending=False)\n",
        "\n",
        "selected_images = []\n",
        "current_size = 0\n",
        "selected_persons = []\n",
        "\n",
        "for person_id in person_counts.index:\n",
        "    person_data = filtered_df[filtered_df['person_id'] == person_id]\n",
        "    if current_size + len(person_data) <= target_dataset_size:\n",
        "        selected_images.append(person_data)\n",
        "        current_size += len(person_data)\n",
        "        selected_persons.append(person_id)\n",
        "    else:\n",
        "        remaining = target_dataset_size - current_size\n",
        "        selected_images.append(person_data.sample(n=remaining, random_state=42))\n",
        "        selected_persons.append(person_id)\n",
        "        break\n",
        "\n",
        "filtered_df = pd.concat(selected_images, ignore_index=True)\n",
        "\n",
        "for _, row in filtered_df.iterrows():\n",
        "    src_path = os.path.join(img_folder, row['filename'])\n",
        "    dst_path = os.path.join(output_folder, row['filename'])\n",
        "    try:\n",
        "        shutil.copy(src_path, dst_path)\n",
        "    except FileNotFoundError:\n",
        "        print(f\"Файл не найден: {src_path}\")\n",
        "        continue\n",
        "\n",
        "# Сохранение нового файла меток\n",
        "filtered_df.to_csv(output_idf_path, sep=' ', header=False, index=False)\n",
        "\n",
        "stats = {\n",
        "    'total_images': len(filtered_df),\n",
        "    'unique_people': filtered_df['person_id'].nunique(),\n",
        "    'images_per_person': filtered_df['person_id'].value_counts().describe().to_dict()\n",
        "}\n",
        "print(\"Статистика отфильтрованного датасета:\")\n",
        "print(stats)"
      ]
    }
  ],
  "metadata": {
    "accelerator": "GPU",
    "colab": {
      "gpuType": "T4",
      "provenance": []
    },
    "kernelspec": {
      "display_name": "Python (myenv)",
      "language": "python",
      "name": "myenv"
    },
    "language_info": {
      "codemirror_mode": {
        "name": "ipython",
        "version": 3
      },
      "file_extension": ".py",
      "mimetype": "text/x-python",
      "name": "python",
      "nbconvert_exporter": "python",
      "pygments_lexer": "ipython3",
      "version": "3.10.9"
    }
  },
  "nbformat": 4,
  "nbformat_minor": 0
}
